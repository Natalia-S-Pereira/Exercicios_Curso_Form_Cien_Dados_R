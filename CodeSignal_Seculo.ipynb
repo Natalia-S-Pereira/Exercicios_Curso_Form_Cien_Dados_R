{
  "nbformat": 4,
  "nbformat_minor": 0,
  "metadata": {
    "colab": {
      "name": "Untitled2.ipynb",
      "provenance": [],
      "authorship_tag": "ABX9TyODaCgIn3XIxaF5MpAy2jqE",
      "include_colab_link": true
    },
    "kernelspec": {
      "name": "python3",
      "display_name": "Python 3"
    },
    "language_info": {
      "name": "python"
    }
  },
  "cells": [
    {
      "cell_type": "markdown",
      "metadata": {
        "id": "view-in-github",
        "colab_type": "text"
      },
      "source": [
        "<a href=\"https://colab.research.google.com/github/Natalia-S-Pereira/Exercicios_Curso_Form_Cien_Dados_R/blob/main/CodeSignal_Seculo.ipynb\" target=\"_parent\"><img src=\"https://colab.research.google.com/assets/colab-badge.svg\" alt=\"Open In Colab\"/></a>"
      ]
    },
    {
      "cell_type": "code",
      "metadata": {
        "id": "dUv5jlLpAuOu"
      },
      "source": [
        "def centuryFromYear(year):\n",
        " \n",
        "  a= str(year)\n",
        "  \n",
        "  \n",
        "  if (year < 100):\n",
        "    return (1)\n",
        "  if (year>=1000 and format(a[3])!=0 and year % 100 != 0):\n",
        "     b = (year+100)\n",
        "     c= str(b)\n",
        "     d= int (c[0:2])\n",
        "     return (d)\n",
        "  elif (year>=100 and year< 1000 and format (a[2])!=0 and year %100 !=0):\n",
        "     b1 = (year+100)\n",
        "     c1= str(b1)\n",
        "     d1= int (c1[0])\n",
        "     return (d1)\n",
        "  elif (year<1000 and year >=100):\n",
        "     return (int (a[0]))\n",
        "  else:\n",
        "    print (year>=1000 and format(a[0:2]))"
      ],
      "execution_count": 86,
      "outputs": []
    },
    {
      "cell_type": "code",
      "metadata": {
        "colab": {
          "base_uri": "https://localhost:8080/"
        },
        "id": "5teMeiVgA3VW",
        "outputId": "846e37a8-1723-4df3-979a-f3afbdabface"
      },
      "source": [
        "centuryFromYear(1905)\n"
      ],
      "execution_count": 49,
      "outputs": [
        {
          "output_type": "execute_result",
          "data": {
            "text/plain": [
              "20"
            ]
          },
          "metadata": {
            "tags": []
          },
          "execution_count": 49
        }
      ]
    },
    {
      "cell_type": "code",
      "metadata": {
        "colab": {
          "base_uri": "https://localhost:8080/"
        },
        "id": "fcqD-oOIBFCw",
        "outputId": "706e1261-dcf7-47a9-a41b-9826b413e6b4"
      },
      "source": [
        "centuryFromYear(1700)\n"
      ],
      "execution_count": 42,
      "outputs": [
        {
          "output_type": "stream",
          "text": [
            "17\n"
          ],
          "name": "stdout"
        }
      ]
    },
    {
      "cell_type": "code",
      "metadata": {
        "colab": {
          "base_uri": "https://localhost:8080/"
        },
        "id": "wwJkkCq1BORE",
        "outputId": "788620f1-113d-422c-e38d-ebd9c311af0f"
      },
      "source": [
        "centuryFromYear(1988)\n"
      ],
      "execution_count": 63,
      "outputs": [
        {
          "output_type": "execute_result",
          "data": {
            "text/plain": [
              "20"
            ]
          },
          "metadata": {
            "tags": []
          },
          "execution_count": 63
        }
      ]
    },
    {
      "cell_type": "code",
      "metadata": {
        "colab": {
          "base_uri": "https://localhost:8080/"
        },
        "id": "X1i2X-YXCS8D",
        "outputId": "64ef1f74-414e-4019-a9aa-5dfc5e60bcf0"
      },
      "source": [
        "centuryFromYear(2000)\n"
      ],
      "execution_count": 62,
      "outputs": [
        {
          "output_type": "stream",
          "text": [
            "20\n"
          ],
          "name": "stdout"
        }
      ]
    },
    {
      "cell_type": "code",
      "metadata": {
        "colab": {
          "base_uri": "https://localhost:8080/"
        },
        "id": "HWQkpSO9CZNZ",
        "outputId": "9f48948e-64b3-4c73-d3bc-c3305b1b3301"
      },
      "source": [
        "centuryFromYear(2001)\n"
      ],
      "execution_count": 61,
      "outputs": [
        {
          "output_type": "execute_result",
          "data": {
            "text/plain": [
              "21"
            ]
          },
          "metadata": {
            "tags": []
          },
          "execution_count": 61
        }
      ]
    },
    {
      "cell_type": "code",
      "metadata": {
        "colab": {
          "base_uri": "https://localhost:8080/"
        },
        "id": "cTWTkqhVCcNI",
        "outputId": "6d449d14-05a9-422b-deb7-017276cc775c"
      },
      "source": [
        "centuryFromYear(200)\n"
      ],
      "execution_count": 87,
      "outputs": [
        {
          "output_type": "execute_result",
          "data": {
            "text/plain": [
              "2"
            ]
          },
          "metadata": {
            "tags": []
          },
          "execution_count": 87
        }
      ]
    },
    {
      "cell_type": "code",
      "metadata": {
        "colab": {
          "base_uri": "https://localhost:8080/"
        },
        "id": "Z9xbBMl3GKTb",
        "outputId": "20646e46-6d18-4b0d-f112-baf737513f99"
      },
      "source": [
        "centuryFromYear(374)"
      ],
      "execution_count": 88,
      "outputs": [
        {
          "output_type": "execute_result",
          "data": {
            "text/plain": [
              "4"
            ]
          },
          "metadata": {
            "tags": []
          },
          "execution_count": 88
        }
      ]
    }
  ]
}